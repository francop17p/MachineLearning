{
 "cells": [
  {
   "cell_type": "code",
   "execution_count": 4,
   "metadata": {},
   "outputs": [
    {
     "name": "stdout",
     "output_type": "stream",
     "text": [
      "Color promedio del recuadro central (BGR): 0, 0, 255\n",
      "Nombre del color: red\n"
     ]
    }
   ],
   "source": [
    "import cv2\n",
    "import numpy as np\n",
    "import webcolors\n",
    "from scipy.spatial import KDTree\n",
    "\n",
    "# Función para encontrar el nombre del color más cercano\n",
    "def closest_color(requested_color):\n",
    "    min_colors = {}\n",
    "    for key, name in webcolors.CSS3_HEX_TO_NAMES.items():\n",
    "        r_c, g_c, b_c = webcolors.hex_to_rgb(key)\n",
    "        rd = (r_c - requested_color[0]) ** 2\n",
    "        gd = (g_c - requested_color[1]) ** 2\n",
    "        bd = (b_c - requested_color[2]) ** 2\n",
    "        min_colors[(rd + gd + bd)] = name\n",
    "    return min_colors[min(min_colors.keys())]\n",
    "\n",
    "# Función para obtener el nombre del color\n",
    "def get_color_name(bgr_value):\n",
    "    rgb_value = (bgr_value[2], bgr_value[1], bgr_value[0])  # Convertir BGR a RGB\n",
    "    try:\n",
    "        closest_name = webcolors.rgb_to_name(rgb_value)\n",
    "    except ValueError:\n",
    "        closest_name = closest_color(rgb_value)\n",
    "    return closest_name\n",
    "\n",
    "# Cargar la imagen\n",
    "imagen = cv2.imread('imgs/red.png')\n",
    "\n",
    "# Obtener las dimensiones de la imagen\n",
    "altura, ancho, canales = imagen.shape\n",
    "\n",
    "# Calcular la posición del centro\n",
    "centro_x = ancho // 2\n",
    "centro_y = altura // 2\n",
    "\n",
    "# Definir el tamaño del recuadro (por ejemplo, 5x5)\n",
    "recuadro_size = 5\n",
    "\n",
    "# Obtener el recuadro de píxeles alrededor del centro\n",
    "recuadro = imagen[centro_y - recuadro_size // 2:centro_y + recuadro_size // 2 + 1,\n",
    "                  centro_x - recuadro_size // 2:centro_x + recuadro_size // 2 + 1]\n",
    "\n",
    "# Calcular el promedio de los valores de color BGR en el recuadro\n",
    "promedio_bgr = cv2.mean(recuadro)[:3]\n",
    "\n",
    "# Obtener los valores de color promedio BGR (OpenCV utiliza el orden BGR)\n",
    "blue_promedio, green_promedio, red_promedio = [int(x) for x in promedio_bgr]\n",
    "\n",
    "# Obtener el nombre del color\n",
    "color_name = get_color_name((blue_promedio, green_promedio, red_promedio))\n",
    "\n",
    "# Imprimir los valores de color promedio y el nombre del color\n",
    "print(f\"Color promedio del recuadro central (BGR): {blue_promedio}, {green_promedio}, {red_promedio}\")\n",
    "print(f\"Nombre del color: {color_name}\")"
   ]
  }
 ],
 "metadata": {
  "kernelspec": {
   "display_name": "Python 3",
   "language": "python",
   "name": "python3"
  },
  "language_info": {
   "codemirror_mode": {
    "name": "ipython",
    "version": 3
   },
   "file_extension": ".py",
   "mimetype": "text/x-python",
   "name": "python",
   "nbconvert_exporter": "python",
   "pygments_lexer": "ipython3",
   "version": "3.10.2"
  }
 },
 "nbformat": 4,
 "nbformat_minor": 2
}
